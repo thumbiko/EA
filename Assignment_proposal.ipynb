{
  "nbformat": 4,
  "nbformat_minor": 0,
  "metadata": {
    "language_info": {
      "codemirror_mode": {
        "name": "ipython",
        "version": 3
      },
      "file_extension": ".py",
      "mimetype": "text/x-python",
      "name": "python",
      "nbconvert_exporter": "python",
      "pygments_lexer": "ipython3",
      "version": 3
    },
    "orig_nbformat": 2,
    "colab": {
      "provenance": [],
      "include_colab_link": true
    }
  },
  "cells": [
    {
      "cell_type": "markdown",
      "metadata": {
        "id": "view-in-github",
        "colab_type": "text"
      },
      "source": [
        "<a href=\"https://colab.research.google.com/github/thumbiko/EA/blob/main/Assignment_proposal.ipynb\" target=\"_parent\"><img src=\"https://colab.research.google.com/assets/colab-badge.svg\" alt=\"Open In Colab\"/></a>"
      ]
    },
    {
      "cell_type": "markdown",
      "metadata": {
        "id": "P4sz55eAPf56"
      },
      "source": [
        "\n",
        "## Assignment Proposal\n",
        "\n",
        "C19713071 Thumbiko Nyasulu\n",
        "\n",
        "## Background to the problem.\n",
        "\n",
        "*Give a brief description of the problem you are trying to solve. Don't include any technical details. Don't just describe what your program does. Focus on the purpose of your program. Your description should be understandable to a reader with no technical background or domain knowledge.*\n",
        "\n",
        "## Files to use. \n",
        "\n",
        "*This section includes a description of the files, links to the source of the files, and a preliminary examinations of your chosen data files.*\n",
        "\n",
        "## Vision for the end investigation.\n",
        "\n",
        "\n"
      ]
    },
    {
      "cell_type": "markdown",
      "source": [
        "# Files to Use"
      ],
      "metadata": {
        "id": "6TAnZVtGW7ui"
      }
    }
  ]
}