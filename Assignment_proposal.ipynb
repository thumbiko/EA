{
  "nbformat": 4,
  "nbformat_minor": 0,
  "metadata": {
    "language_info": {
      "codemirror_mode": {
        "name": "ipython",
        "version": 3
      },
      "file_extension": ".py",
      "mimetype": "text/x-python",
      "name": "python",
      "nbconvert_exporter": "python",
      "pygments_lexer": "ipython3",
      "version": 3
    },
    "orig_nbformat": 2,
    "colab": {
      "provenance": [],
      "include_colab_link": true
    }
  },
  "cells": [
    {
      "cell_type": "markdown",
      "metadata": {
        "id": "view-in-github",
        "colab_type": "text"
      },
      "source": [
        "<a href=\"https://colab.research.google.com/github/thumbiko/EA/blob/main/Assignment_proposal.ipynb\" target=\"_parent\"><img src=\"https://colab.research.google.com/assets/colab-badge.svg\" alt=\"Open In Colab\"/></a>"
      ]
    },
    {
      "cell_type": "markdown",
      "metadata": {
        "id": "P4sz55eAPf56"
      },
      "source": [
        "\n",
        "## Assignment Proposal\n",
        "\n",
        "C19713071 Thumbiko Nyasulu\n",
        "\n",
        "## Background to the problem.\n",
        "\n",
        "\n",
        "The world as we know it is quickly changing due to the complex subject of climate change. To lessen its effects, this global challenge calls for teamwork and well-informed decision-making. \n",
        "\n",
        "The environment, human health, and economic prosperity are all significantly threatened by the worldwide environmental problem known as climate change. It is a result of human actions like burning fossil fuels, deforestation, and industrial operations, which increase the amount of greenhouse gases (GHGs) in the atmosphere. \n",
        "\n",
        "Rising temperatures, a rise in sea level, an increase in the frequency and severity of extreme weather events, modifications to precipitation patterns, and effects on biodiversity are only a few of the effects of climate change.\n",
        "\n",
        "\n",
        "\n",
        "\n",
        "\n",
        "\n",
        "\n",
        "\n"
      ]
    },
    {
      "cell_type": "markdown",
      "source": [
        "##Solution to the problem\n",
        "\n",
        "We can learn more about the intricate and interrelated elements causing climate change through the use of data analysis techniques like statistical analysis and visualization, and we can create evidence-based policies and solutions to lessen and prepare for its effects."
      ],
      "metadata": {
        "id": "sMLKTX4kEBak"
      }
    },
    {
      "cell_type": "markdown",
      "source": [
        "# Files to Use\n",
        "\n",
        "*This section includes a description of the files, links to the source of the files, and a preliminary examinations of your chosen data files.*\n",
        "\n",
        "\n",
        "In this investigation I am to analyse climate change using data from the "
      ],
      "metadata": {
        "id": "6TAnZVtGW7ui"
      }
    },
    {
      "cell_type": "markdown",
      "source": [
        "##Tools\n",
        "I will use the python Libraries Pandas"
      ],
      "metadata": {
        "id": "3GEHJWV8HSF9"
      }
    },
    {
      "cell_type": "markdown",
      "source": [
        "## Vision for the end investigation.\n",
        "\n",
        "The end goal of this investigation is to gain a deeper understanding of the impacts of climate change and by providing data-driven strategies to minimize and adapt to these effects, the inquiry should increase my understanding of the complex and interrelated environmental, social, and economic effects of climate change.\n",
        "\n",
        "The usage of interactive data visualizations is another aspect of the investigation's final vision."
      ],
      "metadata": {
        "id": "j1X_IZOcDfB3"
      }
    }
  ]
}